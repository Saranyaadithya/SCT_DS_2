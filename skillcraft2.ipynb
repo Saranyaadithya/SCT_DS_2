{
  "nbformat": 4,
  "nbformat_minor": 0,
  "metadata": {
    "colab": {
      "provenance": [],
      "authorship_tag": "ABX9TyOjQVK7S4OZsY2n6HWUJxvm",
      "include_colab_link": true
    },
    "kernelspec": {
      "name": "python3",
      "display_name": "Python 3"
    },
    "language_info": {
      "name": "python"
    }
  },
  "cells": [
    {
      "cell_type": "markdown",
      "metadata": {
        "id": "view-in-github",
        "colab_type": "text"
      },
      "source": [
        "<a href=\"https://colab.research.google.com/github/S-SufiyaMoosa/SCT_DS_2/blob/main/skillcraft2.ipynb\" target=\"_parent\"><img src=\"https://colab.research.google.com/assets/colab-badge.svg\" alt=\"Open In Colab\"/></a>"
      ]
    },
    {
      "cell_type": "code",
      "execution_count": null,
      "metadata": {
        "id": "zLcWa77jXJHE"
      },
      "outputs": [],
      "source": [
        "import pandas as pd\n",
        "import numpy as np\n",
        "import matplotlib.pyplot as plt\n",
        "import seaborn as sns\n",
        "import warnings\n",
        "warnings.filterwarnings('ignore')\n"
      ]
    },
    {
      "cell_type": "code",
      "source": [
        "titanic_df=pd.read_csv('/content/titanic.csv')"
      ],
      "metadata": {
        "id": "Qw-QIfGRXsz1"
      },
      "execution_count": 9,
      "outputs": []
    },
    {
      "cell_type": "code",
      "source": [
        "titanic_df.info()"
      ],
      "metadata": {
        "colab": {
          "base_uri": "https://localhost:8080/"
        },
        "id": "olWavqboZ0bX",
        "outputId": "02d3a45a-7465-4e75-ea86-cb84b42cde5d"
      },
      "execution_count": 10,
      "outputs": [
        {
          "output_type": "stream",
          "name": "stdout",
          "text": [
            "<class 'pandas.core.frame.DataFrame'>\n",
            "RangeIndex: 891 entries, 0 to 890\n",
            "Data columns (total 12 columns):\n",
            " #   Column       Non-Null Count  Dtype  \n",
            "---  ------       --------------  -----  \n",
            " 0   PassengerId  891 non-null    int64  \n",
            " 1   Survived     891 non-null    int64  \n",
            " 2   Pclass       891 non-null    int64  \n",
            " 3   Name         891 non-null    object \n",
            " 4   Sex          891 non-null    object \n",
            " 5   Age          714 non-null    float64\n",
            " 6   SibSp        891 non-null    int64  \n",
            " 7   Parch        891 non-null    int64  \n",
            " 8   Ticket       891 non-null    object \n",
            " 9   Fare         891 non-null    float64\n",
            " 10  Cabin        204 non-null    object \n",
            " 11  Embarked     889 non-null    object \n",
            "dtypes: float64(2), int64(5), object(5)\n",
            "memory usage: 83.7+ KB\n"
          ]
        }
      ]
    },
    {
      "cell_type": "code",
      "source": [
        "# Handling missing values\n",
        "titanic_df['Age'].fillna(titanic_df['Age'].median(), inplace=True)\n",
        "titanic_df['Cabin'].fillna('Unknown', inplace=True)\n",
        "titanic_df['Embarked'].fillna(titanic_df['Embarked'].mode()[0], inplace=True)\n",
        "titanic_df.info()\n"
      ],
      "metadata": {
        "colab": {
          "base_uri": "https://localhost:8080/"
        },
        "id": "JipsQ3SqZ4tj",
        "outputId": "6b031988-4f8d-4a44-f4f2-111cd93e7e8f"
      },
      "execution_count": 12,
      "outputs": [
        {
          "output_type": "stream",
          "name": "stdout",
          "text": [
            "<class 'pandas.core.frame.DataFrame'>\n",
            "RangeIndex: 891 entries, 0 to 890\n",
            "Data columns (total 12 columns):\n",
            " #   Column       Non-Null Count  Dtype  \n",
            "---  ------       --------------  -----  \n",
            " 0   PassengerId  891 non-null    int64  \n",
            " 1   Survived     891 non-null    int64  \n",
            " 2   Pclass       891 non-null    int64  \n",
            " 3   Name         891 non-null    object \n",
            " 4   Sex          891 non-null    object \n",
            " 5   Age          891 non-null    float64\n",
            " 6   SibSp        891 non-null    int64  \n",
            " 7   Parch        891 non-null    int64  \n",
            " 8   Ticket       891 non-null    object \n",
            " 9   Fare         891 non-null    float64\n",
            " 10  Cabin        891 non-null    object \n",
            " 11  Embarked     891 non-null    object \n",
            "dtypes: float64(2), int64(5), object(5)\n",
            "memory usage: 83.7+ KB\n"
          ]
        }
      ]
    },
    {
      "cell_type": "code",
      "source": [
        "cols = ['Name','Ticket','Cabin']\n",
        "titanic_df.drop(cols, axis=1, inplace=True)\n",
        "titanic_df.info()"
      ],
      "metadata": {
        "id": "E9weD5g7aIHX",
        "colab": {
          "base_uri": "https://localhost:8080/"
        },
        "outputId": "4019bd01-4a54-443c-bda4-a847900500e3"
      },
      "execution_count": 13,
      "outputs": [
        {
          "output_type": "stream",
          "name": "stdout",
          "text": [
            "<class 'pandas.core.frame.DataFrame'>\n",
            "RangeIndex: 891 entries, 0 to 890\n",
            "Data columns (total 9 columns):\n",
            " #   Column       Non-Null Count  Dtype  \n",
            "---  ------       --------------  -----  \n",
            " 0   PassengerId  891 non-null    int64  \n",
            " 1   Survived     891 non-null    int64  \n",
            " 2   Pclass       891 non-null    int64  \n",
            " 3   Sex          891 non-null    object \n",
            " 4   Age          891 non-null    float64\n",
            " 5   SibSp        891 non-null    int64  \n",
            " 6   Parch        891 non-null    int64  \n",
            " 7   Fare         891 non-null    float64\n",
            " 8   Embarked     891 non-null    object \n",
            "dtypes: float64(2), int64(5), object(2)\n",
            "memory usage: 62.8+ KB\n"
          ]
        }
      ]
    },
    {
      "cell_type": "code",
      "source": [
        "titanic_df=titanic_df.dropna()\n",
        "titanic_df.info()"
      ],
      "metadata": {
        "colab": {
          "base_uri": "https://localhost:8080/"
        },
        "id": "lhlCFWDSbfnW",
        "outputId": "6c7d5a0f-735e-4158-98a0-2cbf4f1676a4"
      },
      "execution_count": 14,
      "outputs": [
        {
          "output_type": "stream",
          "name": "stdout",
          "text": [
            "<class 'pandas.core.frame.DataFrame'>\n",
            "RangeIndex: 891 entries, 0 to 890\n",
            "Data columns (total 9 columns):\n",
            " #   Column       Non-Null Count  Dtype  \n",
            "---  ------       --------------  -----  \n",
            " 0   PassengerId  891 non-null    int64  \n",
            " 1   Survived     891 non-null    int64  \n",
            " 2   Pclass       891 non-null    int64  \n",
            " 3   Sex          891 non-null    object \n",
            " 4   Age          891 non-null    float64\n",
            " 5   SibSp        891 non-null    int64  \n",
            " 6   Parch        891 non-null    int64  \n",
            " 7   Fare         891 non-null    float64\n",
            " 8   Embarked     891 non-null    object \n",
            "dtypes: float64(2), int64(5), object(2)\n",
            "memory usage: 62.8+ KB\n"
          ]
        }
      ]
    },
    {
      "cell_type": "code",
      "source": [
        "dummies=[]\n",
        "cols=['Pclass','Sex','Embarked']\n",
        "for col in cols:\n",
        "  dummies.append(pd.get_dummies(titanic_df[col]))\n",
        "titanic_dummies=pd.concat(dummies,axis=1)\n",
        "titanic_df=pd.concat((titanic_df,titanic_dummies),axis=1)\n"
      ],
      "metadata": {
        "id": "j_krxMaobymt"
      },
      "execution_count": 15,
      "outputs": []
    },
    {
      "cell_type": "code",
      "source": [
        "titanic_df.drop(['Pclass','Sex','Embarked'],axis=1,inplace=True)\n",
        "titanic_df.info()\n"
      ],
      "metadata": {
        "colab": {
          "base_uri": "https://localhost:8080/"
        },
        "id": "ZrKKh9rFcTMs",
        "outputId": "f66a95cc-934e-49cd-eda6-c0b8f2ea248d"
      },
      "execution_count": 16,
      "outputs": [
        {
          "output_type": "stream",
          "name": "stdout",
          "text": [
            "<class 'pandas.core.frame.DataFrame'>\n",
            "RangeIndex: 891 entries, 0 to 890\n",
            "Data columns (total 14 columns):\n",
            " #   Column       Non-Null Count  Dtype  \n",
            "---  ------       --------------  -----  \n",
            " 0   PassengerId  891 non-null    int64  \n",
            " 1   Survived     891 non-null    int64  \n",
            " 2   Age          891 non-null    float64\n",
            " 3   SibSp        891 non-null    int64  \n",
            " 4   Parch        891 non-null    int64  \n",
            " 5   Fare         891 non-null    float64\n",
            " 6   1            891 non-null    bool   \n",
            " 7   2            891 non-null    bool   \n",
            " 8   3            891 non-null    bool   \n",
            " 9   female       891 non-null    bool   \n",
            " 10  male         891 non-null    bool   \n",
            " 11  C            891 non-null    bool   \n",
            " 12  Q            891 non-null    bool   \n",
            " 13  S            891 non-null    bool   \n",
            "dtypes: bool(8), float64(2), int64(4)\n",
            "memory usage: 48.9 KB\n"
          ]
        }
      ]
    },
    {
      "cell_type": "code",
      "source": [
        "titanic_df['Age']=titanic_df['Age'].interpolate()\n",
        "print(titanic_df)"
      ],
      "metadata": {
        "colab": {
          "base_uri": "https://localhost:8080/"
        },
        "id": "eTFrDzxMcchG",
        "outputId": "f54cb1b1-0ba6-4e95-908e-e552ef0c3d3c"
      },
      "execution_count": 17,
      "outputs": [
        {
          "output_type": "stream",
          "name": "stdout",
          "text": [
            "     PassengerId  Survived   Age  SibSp  Parch     Fare      1      2      3  \\\n",
            "0              1         0  22.0      1      0   7.2500  False  False   True   \n",
            "1              2         1  38.0      1      0  71.2833   True  False  False   \n",
            "2              3         1  26.0      0      0   7.9250  False  False   True   \n",
            "3              4         1  35.0      1      0  53.1000   True  False  False   \n",
            "4              5         0  35.0      0      0   8.0500  False  False   True   \n",
            "..           ...       ...   ...    ...    ...      ...    ...    ...    ...   \n",
            "886          887         0  27.0      0      0  13.0000  False   True  False   \n",
            "887          888         1  19.0      0      0  30.0000   True  False  False   \n",
            "888          889         0  28.0      1      2  23.4500  False  False   True   \n",
            "889          890         1  26.0      0      0  30.0000   True  False  False   \n",
            "890          891         0  32.0      0      0   7.7500  False  False   True   \n",
            "\n",
            "     female   male      C      Q      S  \n",
            "0     False   True  False  False   True  \n",
            "1      True  False   True  False  False  \n",
            "2      True  False  False  False   True  \n",
            "3      True  False  False  False   True  \n",
            "4     False   True  False  False   True  \n",
            "..      ...    ...    ...    ...    ...  \n",
            "886   False   True  False  False   True  \n",
            "887    True  False  False  False   True  \n",
            "888    True  False  False  False   True  \n",
            "889   False   True   True  False  False  \n",
            "890   False   True  False   True  False  \n",
            "\n",
            "[891 rows x 14 columns]\n"
          ]
        }
      ]
    },
    {
      "cell_type": "code",
      "source": [
        "from sklearn.preprocessing import MinMaxScaler\n",
        "data = [[-1,2],[-0.5,6],[0,10],[1,18]]\n",
        "scaler = MinMaxScaler()\n",
        "print(scaler.fit(data))\n",
        "MinMaxScaler()\n",
        "print(scaler.data_max_)\n",
        "print(scaler.transform(data))\n"
      ],
      "metadata": {
        "colab": {
          "base_uri": "https://localhost:8080/"
        },
        "id": "2eMwg6Hzcr8L",
        "outputId": "5b381e7b-e24c-41ff-fe2e-431e37205359"
      },
      "execution_count": 19,
      "outputs": [
        {
          "output_type": "stream",
          "name": "stdout",
          "text": [
            "MinMaxScaler()\n",
            "[ 1. 18.]\n",
            "[[0.   0.  ]\n",
            " [0.25 0.25]\n",
            " [0.5  0.5 ]\n",
            " [1.   1.  ]]\n"
          ]
        }
      ]
    },
    {
      "cell_type": "code",
      "source": [
        "from numpy import asarray\n",
        "from sklearn.preprocessing import StandardScaler\n",
        "data=asarray([[100,0.001],[8,0.05],[50,0.005],[88,0.07],[4,0.1]])\n",
        "print(data)\n",
        "scaler=StandardScaler()\n",
        "scaler.fit(data)\n",
        "print(scaler.mean_)"
      ],
      "metadata": {
        "colab": {
          "base_uri": "https://localhost:8080/"
        },
        "id": "oD80Y0nodKTv",
        "outputId": "ba88b143-2ad6-4fe2-d182-b48686ed69c5"
      },
      "execution_count": 20,
      "outputs": [
        {
          "output_type": "stream",
          "name": "stdout",
          "text": [
            "[[1.0e+02 1.0e-03]\n",
            " [8.0e+00 5.0e-02]\n",
            " [5.0e+01 5.0e-03]\n",
            " [8.8e+01 7.0e-02]\n",
            " [4.0e+00 1.0e-01]]\n",
            "[5.00e+01 4.52e-02]\n"
          ]
        }
      ]
    },
    {
      "cell_type": "code",
      "source": [
        "titanic_df.drop_duplicates(inplace=True)\n",
        "\n"
      ],
      "metadata": {
        "id": "r8AzQ1yedgn7"
      },
      "execution_count": 21,
      "outputs": []
    },
    {
      "cell_type": "code",
      "source": [
        "numerical_stats = titanic_df.describe()\n",
        "print(\"Numerical Statistics:\\n\", numerical_stats)\n",
        "\n"
      ],
      "metadata": {
        "colab": {
          "base_uri": "https://localhost:8080/"
        },
        "id": "G7kTE9Oydmcz",
        "outputId": "fcfba431-aa74-4c20-b226-e29d79dfc823"
      },
      "execution_count": 22,
      "outputs": [
        {
          "output_type": "stream",
          "name": "stdout",
          "text": [
            "Numerical Statistics:\n",
            "        PassengerId    Survived         Age       SibSp       Parch        Fare\n",
            "count   891.000000  891.000000  891.000000  891.000000  891.000000  891.000000\n",
            "mean    446.000000    0.383838   29.361582    0.523008    0.381594   32.204208\n",
            "std     257.353842    0.486592   13.019697    1.102743    0.806057   49.693429\n",
            "min       1.000000    0.000000    0.420000    0.000000    0.000000    0.000000\n",
            "25%     223.500000    0.000000   22.000000    0.000000    0.000000    7.910400\n",
            "50%     446.000000    0.000000   28.000000    0.000000    0.000000   14.454200\n",
            "75%     668.500000    1.000000   35.000000    1.000000    0.000000   31.000000\n",
            "max     891.000000    1.000000   80.000000    8.000000    6.000000  512.329200\n"
          ]
        }
      ]
    },
    {
      "cell_type": "code",
      "source": [
        "plt.figure(figsize=(14, 7))\n",
        "\n",
        "\n"
      ],
      "metadata": {
        "colab": {
          "base_uri": "https://localhost:8080/",
          "height": 52
        },
        "id": "Y4jwr1Pwdqpg",
        "outputId": "50ee88a9-dbbe-42bf-fc33-4c3c0003aeb8"
      },
      "execution_count": 24,
      "outputs": [
        {
          "output_type": "execute_result",
          "data": {
            "text/plain": [
              "<Figure size 1400x700 with 0 Axes>"
            ]
          },
          "metadata": {},
          "execution_count": 24
        },
        {
          "output_type": "display_data",
          "data": {
            "text/plain": [
              "<Figure size 1400x700 with 0 Axes>"
            ]
          },
          "metadata": {}
        }
      ]
    },
    {
      "cell_type": "code",
      "source": [
        "plt.subplot(1, 2, 1)\n",
        "sns.histplot(titanic_df['Age'], bins=10, kde=True, color='blue')\n",
        "plt.title('Age Distribution')\n"
      ],
      "metadata": {
        "colab": {
          "base_uri": "https://localhost:8080/",
          "height": 489
        },
        "id": "v6ZNcysFdzv6",
        "outputId": "6e2fd58d-0316-4d42-c397-77261b8873be"
      },
      "execution_count": 25,
      "outputs": [
        {
          "output_type": "execute_result",
          "data": {
            "text/plain": [
              "Text(0.5, 1.0, 'Age Distribution')"
            ]
          },
          "metadata": {},
          "execution_count": 25
        },
        {
          "output_type": "display_data",
          "data": {
            "text/plain": [
              "<Figure size 640x480 with 1 Axes>"
            ],
            "image/png": "[encoded data removed]"
          },
          "metadata": {}
        }
      ]
    },
    {
      "cell_type": "code",
      "source": [
        "plt.subplot(1, 2, 2)\n",
        "sns.histplot(titanic_df['Fare'], bins=10, kde=True, color='green')\n",
        "plt.title('Fare Distribution')\n",
        "\n",
        "plt.tight_layout()\n",
        "plt.show()\n"
      ],
      "metadata": {
        "colab": {
          "base_uri": "https://localhost:8080/",
          "height": 487
        },
        "id": "jVmknQWVd4P7",
        "outputId": "090392b8-06c7-43f1-f197-7f4bd1cb1a4e"
      },
      "execution_count": 26,
      "outputs": [
        {
          "output_type": "display_data",
          "data": {
            "text/plain": [
              "<Figure size 640x480 with 1 Axes>"
            ],
            "image/png": "[encoded data removed]"
          },
          "metadata": {}
        }
      ]
    },
    {
      "cell_type": "code",
      "source": [
        "plt.figure(figsize=(10, 5))\n",
        "sns.boxplot(x='Survived', y='Age', data=titanic_df, palette='viridis')\n",
        "plt.title('Age Distribution by Survival')\n",
        "plt.xlabel('Survived')\n",
        "plt.ylabel('Age')\n",
        "plt.show()\n",
        "\n",
        "\n"
      ],
      "metadata": {
        "colab": {
          "base_uri": "https://localhost:8080/",
          "height": 487
        },
        "id": "F03jozhZd8gF",
        "outputId": "8f61de82-c915-4379-db6f-4d23d9d9a0b7"
      },
      "execution_count": 29,
      "outputs": [
        {
          "output_type": "display_data",
          "data": {
            "text/plain": [
              "<Figure size 1000x500 with 1 Axes>"
            ],
            "image/png": "[encoded data removed]"
          },
          "metadata": {}
        }
      ]
    },
    {
      "cell_type": "code",
      "source": [],
      "metadata": {
        "id": "HCxOLi1ieScR"
      },
      "execution_count": null,
      "outputs": []
    }
  ]
}